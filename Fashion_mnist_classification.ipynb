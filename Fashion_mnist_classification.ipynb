{
 "cells": [
  {
   "cell_type": "code",
   "execution_count": 1,
   "metadata": {
    "colab": {
     "base_uri": "https://localhost:8080/",
     "height": 34
    },
    "colab_type": "code",
    "id": "OF_uQOq4xJxw",
    "outputId": "8fed1356-d275-4ff4-ec6c-4c5f11fae06d"
   },
   "outputs": [
    {
     "name": "stderr",
     "output_type": "stream",
     "text": [
      "Using TensorFlow backend.\n"
     ]
    }
   ],
   "source": [
    "from keras.datasets import fashion_mnist"
   ]
  },
  {
   "cell_type": "code",
   "execution_count": 0,
   "metadata": {
    "colab": {},
    "colab_type": "code",
    "id": "JoVAJaGAzLqN"
   },
   "outputs": [],
   "source": [
    "import matplotlib.pyplot as plt\n",
    "from keras.models import Sequential\n",
    "from keras.layers import Conv2D\n",
    "from keras.utils import to_categorical\n",
    "from keras.layers import MaxPool2D\n",
    "from keras.layers import Flatten\n",
    "from keras.layers import Dense\n",
    "from keras.layers import BatchNormalization\n",
    "from keras.layers import Dropout\n",
    "import matplotlib.pyplot as plt\n",
    "import keras\n",
    "from keras import regularizers"
   ]
  },
  {
   "cell_type": "code",
   "execution_count": 0,
   "metadata": {
    "colab": {},
    "colab_type": "code",
    "id": "gaUfP_GCx4c-"
   },
   "outputs": [],
   "source": [
    "(x,y),(x_valid,y_valid) = fashion_mnist.load_data()"
   ]
  },
  {
   "cell_type": "code",
   "execution_count": 0,
   "metadata": {
    "colab": {},
    "colab_type": "code",
    "id": "TFsEh7pvuHuj"
   },
   "outputs": [],
   "source": [
    "from sklearn.model_selection import train_test_split\n",
    "\n",
    "x_train,x_test,y_train,y_test = train_test_split(x,y)"
   ]
  },
  {
   "cell_type": "code",
   "execution_count": 0,
   "metadata": {
    "colab": {},
    "colab_type": "code",
    "id": "HltmmbYhuZN7"
   },
   "outputs": [],
   "source": [
    "x_train = x_train.reshape(x_train.shape[0],28,28,1)\n",
    "x_test = x_test.reshape(x_test.shape[0],28,28,1)\n",
    "x_valid = x_valid.reshape(x_valid.shape[0],28,28,1)\n",
    "\n",
    "y_train = to_categorical(y_train,num_classes=10)\n",
    "y_test = to_categorical(y_test,num_classes=10)\n",
    "y_valid = to_categorical(y_valid,num_classes=10)\n"
   ]
  },
  {
   "cell_type": "code",
   "execution_count": 6,
   "metadata": {
    "colab": {
     "base_uri": "https://localhost:8080/",
     "height": 972
    },
    "colab_type": "code",
    "id": "VXtO9v_i0We1",
    "outputId": "0cb07291-cac2-4c0e-f3c4-0f8f494ca6ee"
   },
   "outputs": [
    {
     "name": "stdout",
     "output_type": "stream",
     "text": [
      "WARNING:tensorflow:From /usr/local/lib/python3.6/dist-packages/keras/backend/tensorflow_backend.py:66: The name tf.get_default_graph is deprecated. Please use tf.compat.v1.get_default_graph instead.\n",
      "\n",
      "WARNING:tensorflow:From /usr/local/lib/python3.6/dist-packages/keras/backend/tensorflow_backend.py:541: The name tf.placeholder is deprecated. Please use tf.compat.v1.placeholder instead.\n",
      "\n",
      "WARNING:tensorflow:From /usr/local/lib/python3.6/dist-packages/keras/backend/tensorflow_backend.py:4479: The name tf.truncated_normal is deprecated. Please use tf.random.truncated_normal instead.\n",
      "\n",
      "WARNING:tensorflow:From /usr/local/lib/python3.6/dist-packages/keras/backend/tensorflow_backend.py:4267: The name tf.nn.max_pool is deprecated. Please use tf.nn.max_pool2d instead.\n",
      "\n",
      "WARNING:tensorflow:From /usr/local/lib/python3.6/dist-packages/keras/backend/tensorflow_backend.py:4432: The name tf.random_uniform is deprecated. Please use tf.random.uniform instead.\n",
      "\n",
      "WARNING:tensorflow:From /usr/local/lib/python3.6/dist-packages/keras/backend/tensorflow_backend.py:148: The name tf.placeholder_with_default is deprecated. Please use tf.compat.v1.placeholder_with_default instead.\n",
      "\n",
      "WARNING:tensorflow:From /usr/local/lib/python3.6/dist-packages/keras/backend/tensorflow_backend.py:3733: calling dropout (from tensorflow.python.ops.nn_ops) with keep_prob is deprecated and will be removed in a future version.\n",
      "Instructions for updating:\n",
      "Please use `rate` instead of `keep_prob`. Rate should be set to `rate = 1 - keep_prob`.\n",
      "Model: \"sequential_1\"\n",
      "_________________________________________________________________\n",
      "Layer (type)                 Output Shape              Param #   \n",
      "=================================================================\n",
      "conv2d_1 (Conv2D)            (None, 28, 28, 64)        640       \n",
      "_________________________________________________________________\n",
      "max_pooling2d_1 (MaxPooling2 (None, 14, 14, 64)        0         \n",
      "_________________________________________________________________\n",
      "conv2d_2 (Conv2D)            (None, 14, 14, 128)       73856     \n",
      "_________________________________________________________________\n",
      "conv2d_3 (Conv2D)            (None, 14, 14, 128)       147584    \n",
      "_________________________________________________________________\n",
      "max_pooling2d_2 (MaxPooling2 (None, 7, 7, 128)         0         \n",
      "_________________________________________________________________\n",
      "dropout_1 (Dropout)          (None, 7, 7, 128)         0         \n",
      "_________________________________________________________________\n",
      "conv2d_4 (Conv2D)            (None, 7, 7, 256)         295168    \n",
      "_________________________________________________________________\n",
      "conv2d_5 (Conv2D)            (None, 7, 7, 256)         590080    \n",
      "_________________________________________________________________\n",
      "max_pooling2d_3 (MaxPooling2 (None, 3, 3, 256)         0         \n",
      "_________________________________________________________________\n",
      "dropout_2 (Dropout)          (None, 3, 3, 256)         0         \n",
      "_________________________________________________________________\n",
      "flatten_1 (Flatten)          (None, 2304)              0         \n",
      "_________________________________________________________________\n",
      "dense_1 (Dense)              (None, 1024)              2360320   \n",
      "_________________________________________________________________\n",
      "dropout_3 (Dropout)          (None, 1024)              0         \n",
      "_________________________________________________________________\n",
      "dense_2 (Dense)              (None, 1024)              1049600   \n",
      "_________________________________________________________________\n",
      "batch_normalization_1 (Batch (None, 1024)              4096      \n",
      "_________________________________________________________________\n",
      "dense_3 (Dense)              (None, 10)                10250     \n",
      "=================================================================\n",
      "Total params: 4,531,594\n",
      "Trainable params: 4,529,546\n",
      "Non-trainable params: 2,048\n",
      "_________________________________________________________________\n"
     ]
    }
   ],
   "source": [
    "weight_decay = 1e-4\n",
    "model = Sequential()\n",
    "model.add(Conv2D(64,kernel_size=(3,3),strides=(1,1),padding='same',input_shape = (28,28,1),activation='relu',\n",
    "                 kernel_initializer=keras.initializers.glorot_normal(seed=None),\n",
    "                 kernel_regularizer=regularizers.l2(weight_decay)))\n",
    "model.add(MaxPool2D(pool_size=(2,2)))\n",
    "\n",
    "\n",
    "\n",
    "\n",
    "model.add(Conv2D(128,kernel_size=(3,3),strides=(1,1),padding='same',activation='relu',\n",
    "                 kernel_regularizer=regularizers.l2(weight_decay)))\n",
    "model.add(Conv2D(128,kernel_size=(3,3),strides=(1,1),padding='same',activation='relu',\n",
    "                 kernel_regularizer=regularizers.l2(weight_decay)))\n",
    "model.add(MaxPool2D(pool_size=(2,2)))\n",
    "model.add(Dropout(0.3))\n",
    "\n",
    "model.add(Conv2D(256,kernel_size=(3,3),strides=(1,1),padding='same',activation='relu',\n",
    "                 kernel_regularizer=regularizers.l2(weight_decay)))\n",
    "model.add(Conv2D(256,kernel_size=(3,3),strides=(1,1),padding='same',activation='relu',\n",
    "                 kernel_regularizer=regularizers.l2(weight_decay)))\n",
    "model.add(MaxPool2D(pool_size=(2,2)))\n",
    "model.add(Dropout(0.4))\n",
    "\n",
    "\n",
    "model.add(Flatten())\n",
    "model.add(Dense(1024,activation='relu'))\n",
    "model.add(Dropout(0.5))\n",
    "model.add(Dense(1024,activation='relu'))\n",
    "model.add(BatchNormalization())\n",
    "model.add(Dense(10,activation='softmax'))\n",
    "model.summary()"
   ]
  },
  {
   "cell_type": "code",
   "execution_count": 0,
   "metadata": {
    "colab": {},
    "colab_type": "code",
    "id": "M6-1HNDQ0eZm"
   },
   "outputs": [],
   "source": []
  },
  {
   "cell_type": "code",
   "execution_count": 7,
   "metadata": {
    "colab": {
     "base_uri": "https://localhost:8080/",
     "height": 71
    },
    "colab_type": "code",
    "id": "EkxdWmbKIAln",
    "outputId": "673aa7b9-7346-421f-baf4-c3fbd4f25842"
   },
   "outputs": [
    {
     "name": "stdout",
     "output_type": "stream",
     "text": [
      "WARNING:tensorflow:From /usr/local/lib/python3.6/dist-packages/keras/optimizers.py:793: The name tf.train.Optimizer is deprecated. Please use tf.compat.v1.train.Optimizer instead.\n",
      "\n"
     ]
    }
   ],
   "source": [
    "#compile the model\n",
    "model.compile(loss=keras.losses.categorical_crossentropy,\n",
    "              optimizer=keras.optimizers.Adam(),\n",
    "              metrics=['accuracy'])"
   ]
  },
  {
   "cell_type": "code",
   "execution_count": 0,
   "metadata": {
    "colab": {},
    "colab_type": "code",
    "id": "Tl17WrxfoqWv"
   },
   "outputs": [],
   "source": []
  },
  {
   "cell_type": "code",
   "execution_count": 8,
   "metadata": {
    "colab": {
     "base_uri": "https://localhost:8080/",
     "height": 1000
    },
    "colab_type": "code",
    "id": "B2hXMx9awDoM",
    "outputId": "4034750c-8fc0-4379-a8c6-27122fb03191"
   },
   "outputs": [
    {
     "name": "stdout",
     "output_type": "stream",
     "text": [
      "WARNING:tensorflow:From /usr/local/lib/python3.6/dist-packages/tensorflow/python/ops/math_grad.py:1250: add_dispatch_support.<locals>.wrapper (from tensorflow.python.ops.array_ops) is deprecated and will be removed in a future version.\n",
      "Instructions for updating:\n",
      "Use tf.where in 2.0, which has the same broadcast rule as np.where\n",
      "Train on 45000 samples, validate on 10000 samples\n",
      "Epoch 1/30\n",
      "45000/45000 [==============================] - 18s 403us/step - loss: 0.8971 - acc: 0.7112 - val_loss: 0.6241 - val_acc: 0.8004\n",
      "Epoch 2/30\n",
      "45000/45000 [==============================] - 14s 321us/step - loss: 0.4620 - acc: 0.8535 - val_loss: 0.4271 - val_acc: 0.8657\n",
      "Epoch 3/30\n",
      "45000/45000 [==============================] - 14s 320us/step - loss: 0.3881 - acc: 0.8824 - val_loss: 0.4053 - val_acc: 0.8698\n",
      "Epoch 4/30\n",
      "45000/45000 [==============================] - 14s 322us/step - loss: 0.3484 - acc: 0.8962 - val_loss: 0.3582 - val_acc: 0.9001\n",
      "Epoch 5/30\n",
      "45000/45000 [==============================] - 14s 320us/step - loss: 0.3255 - acc: 0.9060 - val_loss: 0.3202 - val_acc: 0.9080\n",
      "Epoch 6/30\n",
      "45000/45000 [==============================] - 14s 321us/step - loss: 0.3067 - acc: 0.9130 - val_loss: 0.3008 - val_acc: 0.9173\n",
      "Epoch 7/30\n",
      "45000/45000 [==============================] - 14s 320us/step - loss: 0.2893 - acc: 0.9193 - val_loss: 0.3111 - val_acc: 0.9144\n",
      "Epoch 8/30\n",
      "45000/45000 [==============================] - 14s 319us/step - loss: 0.2835 - acc: 0.9221 - val_loss: 0.3178 - val_acc: 0.9138\n",
      "Epoch 9/30\n",
      "45000/45000 [==============================] - 14s 320us/step - loss: 0.2722 - acc: 0.9244 - val_loss: 0.3137 - val_acc: 0.9159\n",
      "Epoch 10/30\n",
      "45000/45000 [==============================] - 14s 319us/step - loss: 0.2679 - acc: 0.9283 - val_loss: 0.3203 - val_acc: 0.9170\n",
      "Epoch 11/30\n",
      "45000/45000 [==============================] - 14s 321us/step - loss: 0.2610 - acc: 0.9314 - val_loss: 0.3188 - val_acc: 0.9163\n",
      "Epoch 12/30\n",
      "45000/45000 [==============================] - 14s 320us/step - loss: 0.2538 - acc: 0.9346 - val_loss: 0.3156 - val_acc: 0.9205\n",
      "Epoch 13/30\n",
      "45000/45000 [==============================] - 14s 320us/step - loss: 0.2468 - acc: 0.9382 - val_loss: 0.3318 - val_acc: 0.9123\n",
      "Epoch 14/30\n",
      "45000/45000 [==============================] - 14s 319us/step - loss: 0.2425 - acc: 0.9400 - val_loss: 0.3094 - val_acc: 0.9212\n",
      "Epoch 15/30\n",
      "45000/45000 [==============================] - 14s 319us/step - loss: 0.2401 - acc: 0.9436 - val_loss: 0.3237 - val_acc: 0.9219\n",
      "Epoch 16/30\n",
      "45000/45000 [==============================] - 14s 319us/step - loss: 0.2340 - acc: 0.9462 - val_loss: 0.3343 - val_acc: 0.9234\n",
      "Epoch 17/30\n",
      "45000/45000 [==============================] - 14s 320us/step - loss: 0.2340 - acc: 0.9464 - val_loss: 0.3367 - val_acc: 0.9211\n",
      "Epoch 18/30\n",
      "45000/45000 [==============================] - 14s 320us/step - loss: 0.2330 - acc: 0.9477 - val_loss: 0.3202 - val_acc: 0.9248\n",
      "Epoch 19/30\n",
      "45000/45000 [==============================] - 14s 318us/step - loss: 0.2268 - acc: 0.9512 - val_loss: 0.3419 - val_acc: 0.9205\n",
      "Epoch 20/30\n",
      "45000/45000 [==============================] - 14s 318us/step - loss: 0.2287 - acc: 0.9518 - val_loss: 0.3282 - val_acc: 0.9265\n",
      "Epoch 21/30\n",
      "45000/45000 [==============================] - 14s 319us/step - loss: 0.2217 - acc: 0.9541 - val_loss: 0.3334 - val_acc: 0.9267\n",
      "Epoch 22/30\n",
      "45000/45000 [==============================] - 14s 320us/step - loss: 0.2239 - acc: 0.9544 - val_loss: 0.3554 - val_acc: 0.9190\n",
      "Epoch 23/30\n",
      "45000/45000 [==============================] - 14s 319us/step - loss: 0.2200 - acc: 0.9566 - val_loss: 0.3432 - val_acc: 0.9260\n",
      "Epoch 24/30\n",
      "45000/45000 [==============================] - 14s 321us/step - loss: 0.2204 - acc: 0.9581 - val_loss: 0.3344 - val_acc: 0.9238\n",
      "Epoch 25/30\n",
      "45000/45000 [==============================] - 14s 318us/step - loss: 0.2147 - acc: 0.9609 - val_loss: 0.3627 - val_acc: 0.9210\n",
      "Epoch 26/30\n",
      "45000/45000 [==============================] - 14s 319us/step - loss: 0.2162 - acc: 0.9603 - val_loss: 0.3429 - val_acc: 0.9252\n",
      "Epoch 27/30\n",
      "45000/45000 [==============================] - 14s 319us/step - loss: 0.2144 - acc: 0.9614 - val_loss: 0.3844 - val_acc: 0.9248\n",
      "Epoch 28/30\n",
      "45000/45000 [==============================] - 14s 321us/step - loss: 0.2075 - acc: 0.9644 - val_loss: 0.3568 - val_acc: 0.9285\n",
      "Epoch 29/30\n",
      "45000/45000 [==============================] - 14s 320us/step - loss: 0.2154 - acc: 0.9634 - val_loss: 0.3701 - val_acc: 0.9279\n",
      "Epoch 30/30\n",
      "45000/45000 [==============================] - 14s 320us/step - loss: 0.2088 - acc: 0.9660 - val_loss: 0.3785 - val_acc: 0.9216\n"
     ]
    }
   ],
   "source": [
    "\n",
    "\n",
    "history = model.fit(x_train, y_train,\n",
    "          batch_size=256,\n",
    "          epochs=30,\n",
    "          verbose=1,\n",
    "          validation_data=(x_valid, y_valid),\n",
    "          )\n"
   ]
  },
  {
   "cell_type": "code",
   "execution_count": 0,
   "metadata": {
    "colab": {},
    "colab_type": "code",
    "id": "odM8amvUtjie"
   },
   "outputs": [],
   "source": []
  },
  {
   "cell_type": "code",
   "execution_count": 0,
   "metadata": {
    "colab": {},
    "colab_type": "code",
    "id": "3KIJImvqopNe"
   },
   "outputs": [],
   "source": []
  },
  {
   "cell_type": "code",
   "execution_count": 0,
   "metadata": {
    "colab": {},
    "colab_type": "code",
    "id": "K7rL-L1TIJrB"
   },
   "outputs": [],
   "source": [
    "#history = model.fit(x=x_train,y=y_train,batch_size=128,epochs=30,validation_data=(x_test,y_test),\n",
    " #     shuffle=True)"
   ]
  },
  {
   "cell_type": "code",
   "execution_count": 0,
   "metadata": {
    "colab": {},
    "colab_type": "code",
    "id": "3ZsilObK4Y1G"
   },
   "outputs": [],
   "source": []
  },
  {
   "cell_type": "code",
   "execution_count": 10,
   "metadata": {
    "colab": {
     "base_uri": "https://localhost:8080/",
     "height": 295
    },
    "colab_type": "code",
    "id": "lfH_EzhHZZtC",
    "outputId": "dfc29421-aad4-4744-aede-0c937cf1e8b5"
   },
   "outputs": [
    {
     "data": {
      "image/png": "[encoded data removed]",
      "text/plain": [
       "<Figure size 432x288 with 1 Axes>"
      ]
     },
     "metadata": {
      "tags": []
     },
     "output_type": "display_data"
    }
   ],
   "source": [
    "plt.plot(history.history['acc'])\n",
    "plt.plot(history.history['val_acc'])\n",
    "plt.title('model accuracy')\n",
    "plt.ylabel('accuracy')\n",
    "plt.xlabel('epoch')\n",
    "plt.legend(['train', 'test'], loc='upper left')\n",
    "plt.show()\n",
    "\n"
   ]
  },
  {
   "cell_type": "code",
   "execution_count": 0,
   "metadata": {
    "colab": {},
    "colab_type": "code",
    "id": "SO_uddulEy54"
   },
   "outputs": [],
   "source": []
  },
  {
   "cell_type": "code",
   "execution_count": 0,
   "metadata": {
    "colab": {},
    "colab_type": "code",
    "id": "_Cgiy-HHANa4"
   },
   "outputs": [],
   "source": []
  },
  {
   "cell_type": "code",
   "execution_count": 0,
   "metadata": {
    "colab": {},
    "colab_type": "code",
    "id": "X1TlDkSE-IRm"
   },
   "outputs": [],
   "source": []
  },
  {
   "cell_type": "code",
   "execution_count": 11,
   "metadata": {
    "colab": {
     "base_uri": "https://localhost:8080/",
     "height": 295
    },
    "colab_type": "code",
    "id": "FD7K-MYQeHpT",
    "outputId": "d7c90bb0-c0b2-49d1-bc96-28ca6cfc101f"
   },
   "outputs": [
    {
     "data": {
      "image/png": "[encoded data removed]",
      "text/plain": [
       "<Figure size 432x288 with 1 Axes>"
      ]
     },
     "metadata": {
      "tags": []
     },
     "output_type": "display_data"
    }
   ],
   "source": [
    "plt.plot(history.history['loss'])\n",
    "plt.plot(history.history['val_loss'])\n",
    "plt.title('model loss')\n",
    "plt.ylabel('loss')\n",
    "plt.xlabel('epoch')\n",
    "plt.legend(['train', 'test'], loc='upper left')\n",
    "plt.show()"
   ]
  },
  {
   "cell_type": "code",
   "execution_count": 16,
   "metadata": {
    "colab": {
     "base_uri": "https://localhost:8080/",
     "height": 51
    },
    "colab_type": "code",
    "id": "ZW26bxjUIzwh",
    "outputId": "754ea875-717c-4c18-9774-e413e79518e3"
   },
   "outputs": [
    {
     "name": "stdout",
     "output_type": "stream",
     "text": [
      "15000/15000 [==============================] - 3s 233us/step\n"
     ]
    },
    {
     "data": {
      "text/plain": [
       "[0.3481072598536809, 0.929]"
      ]
     },
     "execution_count": 16,
     "metadata": {
      "tags": []
     },
     "output_type": "execute_result"
    }
   ],
   "source": [
    "model.evaluate(x=x_test,y=y_test)"
   ]
  },
  {
   "cell_type": "code",
   "execution_count": 0,
   "metadata": {
    "colab": {},
    "colab_type": "code",
    "id": "yFeZhv_WjYCV"
   },
   "outputs": [],
   "source": []
  },
  {
   "cell_type": "code",
   "execution_count": 0,
   "metadata": {
    "colab": {},
    "colab_type": "code",
    "id": "HVCZ4yaLz9XP"
   },
   "outputs": [],
   "source": [
    "result = model.predict(x=x_test)"
   ]
  },
  {
   "cell_type": "code",
   "execution_count": 0,
   "metadata": {
    "colab": {},
    "colab_type": "code",
    "id": "fjBcm1BSjjIn"
   },
   "outputs": [],
   "source": []
  },
  {
   "cell_type": "code",
   "execution_count": 0,
   "metadata": {
    "colab": {},
    "colab_type": "code",
    "id": "H_rWnYfwjbWE"
   },
   "outputs": [],
   "source": []
  },
  {
   "cell_type": "code",
   "execution_count": 0,
   "metadata": {
    "colab": {},
    "colab_type": "code",
    "id": "mFyfcfJWWWNA"
   },
   "outputs": [],
   "source": [
    "import numpy as np\n",
    "y_pred = np.rint(result)"
   ]
  },
  {
   "cell_type": "code",
   "execution_count": 0,
   "metadata": {
    "colab": {},
    "colab_type": "code",
    "id": "e4wDBfTMjkM2"
   },
   "outputs": [],
   "source": []
  },
  {
   "cell_type": "code",
   "execution_count": 0,
   "metadata": {
    "colab": {},
    "colab_type": "code",
    "id": "pILM9Zz7XHdh"
   },
   "outputs": [],
   "source": [
    "#confusion matrix\n",
    "from sklearn.metrics import classification_report, confusion_matrix\n",
    "y_pred_ = np.argmax(y_pred,axis=1)\n",
    "y_actual = np.argmax(y_test,axis=1)\n",
    "array = confusion_matrix(y_actual,y_pred_)"
   ]
  },
  {
   "cell_type": "code",
   "execution_count": 0,
   "metadata": {
    "colab": {},
    "colab_type": "code",
    "id": "AvrhJdMMjk4V"
   },
   "outputs": [],
   "source": []
  },
  {
   "cell_type": "code",
   "execution_count": 21,
   "metadata": {
    "colab": {
     "base_uri": "https://localhost:8080/",
     "height": 884
    },
    "colab_type": "code",
    "id": "-m68fmzzZmEO",
    "outputId": "f9f5a5f4-ea5a-4225-bf86-9758128172e2"
   },
   "outputs": [
    {
     "data": {
      "text/plain": [
       "<matplotlib.axes._subplots.AxesSubplot at 0x7f3bc822c3c8>"
      ]
     },
     "execution_count": 21,
     "metadata": {
      "tags": []
     },
     "output_type": "execute_result"
    },
    {
     "data": {
      "image/png": "[encoded data removed]",
      "text/plain": [
       "<Figure size 1080x1080 with 2 Axes>"
      ]
     },
     "metadata": {
      "tags": []
     },
     "output_type": "display_data"
    }
   ],
   "source": [
    "import pandas as pd\n",
    "import seaborn as sn\n",
    "clothing = {0 : 'T-shirt/top',\n",
    "            1 : 'Trouser',\n",
    "            2 : 'Pullover',\n",
    "            3 : 'Dress',\n",
    "            4 : 'Coat',\n",
    "            5 : 'Sandal',\n",
    "            6 : 'Shirt',\n",
    "            7 : 'Sneaker',\n",
    "            8 : 'Bag',\n",
    "            9 : 'Ankle boot'}\n",
    "df_cm = pd.DataFrame(array, clothing.values(),\n",
    "                  clothing.values())\n",
    "plt.subplots(figsize=(15,15))\n",
    "sn.heatmap(df_cm, annot=True,annot_kws={\"size\": 15},cmap=\"YlGnBu\",fmt='g')# font size"
   ]
  },
  {
   "cell_type": "code",
   "execution_count": 0,
   "metadata": {
    "colab": {},
    "colab_type": "code",
    "id": "HpDRkDtWjurp"
   },
   "outputs": [],
   "source": []
  },
  {
   "cell_type": "code",
   "execution_count": 0,
   "metadata": {
    "colab": {},
    "colab_type": "code",
    "id": "kIm_pyu_e2C2"
   },
   "outputs": [],
   "source": [
    "model.evaluate(x_test,y_test)"
   ]
  },
  {
   "cell_type": "code",
   "execution_count": 0,
   "metadata": {
    "colab": {},
    "colab_type": "code",
    "id": "oZRTJeJWpcvk"
   },
   "outputs": [],
   "source": [
    "\n",
    "\n",
    "            "
   ]
  },
  {
   "cell_type": "code",
   "execution_count": 0,
   "metadata": {
    "colab": {},
    "colab_type": "code",
    "id": "2hBsNEx4A29b"
   },
   "outputs": [],
   "source": [
    "clothing.values()"
   ]
  },
  {
   "cell_type": "code",
   "execution_count": 0,
   "metadata": {
    "colab": {},
    "colab_type": "code",
    "id": "fEWIdZ7kbdBV"
   },
   "outputs": [],
   "source": [
    "fig, axes = plt.subplots(4, 4, figsize = (5,5))\n",
    "for row in axes:\n",
    "    for axe in row:\n",
    "        index = np.random.randint(45000)\n",
    "        img = x_train[index].reshape(28,28)\n",
    "        cloths = np.argmax(y_train[index])\n",
    "        axe.imshow(img, cmap='gray')\n",
    "        axe.set_title(clothing[cloths])\n",
    "        axe.set_axis_off()"
   ]
  },
  {
   "cell_type": "code",
   "execution_count": 0,
   "metadata": {
    "colab": {},
    "colab_type": "code",
    "id": "Th3dXsY5oOIC"
   },
   "outputs": [],
   "source": [
    "from google.colab import drive\n",
    "drive.mount('/content/drive')"
   ]
  },
  {
   "cell_type": "code",
   "execution_count": 0,
   "metadata": {
    "colab": {},
    "colab_type": "code",
    "id": "w2nhe3tPoPT_"
   },
   "outputs": [],
   "source": [
    "model.save_weights(\"/content/drive/My Drive/Colab Notebooks/fashion_model_1.h5\")"
   ]
  }
 ],
 "metadata": {
  "accelerator": "GPU",
  "colab": {
   "collapsed_sections": [],
   "name": "Assignment2.ipynb",
   "provenance": []
  },
  "kernelspec": {
   "display_name": "Python 3",
   "language": "python",
   "name": "python3"
  },
  "language_info": {
   "codemirror_mode": {
    "name": "ipython",
    "version": 3
   },
   "file_extension": ".py",
   "mimetype": "text/x-python",
   "name": "python",
   "nbconvert_exporter": "python",
   "pygments_lexer": "ipython3",
   "version": "3.8.3"
  }
 },
 "nbformat": 4,
 "nbformat_minor": 1
}
